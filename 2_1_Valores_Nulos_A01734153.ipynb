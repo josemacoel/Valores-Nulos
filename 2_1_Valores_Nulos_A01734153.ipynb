{
  "nbformat": 4,
  "nbformat_minor": 0,
  "metadata": {
    "colab": {
      "provenance": [],
      "authorship_tag": "ABX9TyPUD2GnkV+Bj1um7umo+jD8",
      "include_colab_link": true
    },
    "kernelspec": {
      "name": "python3",
      "display_name": "Python 3"
    },
    "language_info": {
      "name": "python"
    }
  },
  "cells": [
    {
      "cell_type": "markdown",
      "metadata": {
        "id": "view-in-github",
        "colab_type": "text"
      },
      "source": [
        "<a href=\"https://colab.research.google.com/github/josemacoel/Valores-Nulos/blob/main/2_1_Valores_Nulos_A01734153.ipynb\" target=\"_parent\"><img src=\"https://colab.research.google.com/assets/colab-badge.svg\" alt=\"Open In Colab\"/></a>"
      ]
    },
    {
      "cell_type": "markdown",
      "source": [
        "## **Actividad 2.1 Valores nulos con CSV Ventas_Totales**"
      ],
      "metadata": {
        "id": "ShNUkjv--bhw"
      }
    },
    {
      "cell_type": "code",
      "source": [
        "import pandas as pd\n",
        "import numpy as np\n",
        "import matplotlib.pyplot as plt\n",
        "import seaborn as sns"
      ],
      "metadata": {
        "id": "osK4UhXs-5J4"
      },
      "execution_count": 1,
      "outputs": []
    },
    {
      "cell_type": "code",
      "execution_count": 2,
      "metadata": {
        "colab": {
          "base_uri": "https://localhost:8080/",
          "height": 300
        },
        "id": "d23rNsEH-S84",
        "outputId": "feb6dac6-2b01-40d3-f5af-00233420a1d4"
      },
      "outputs": [
        {
          "output_type": "execute_result",
          "data": {
            "text/plain": [
              "  indice_tiempo  ventas_precios_corrientes  ventas_precios_constantes  \\\n",
              "0    01/01/2017                    27858.9                    27477.3   \n",
              "1    01/02/2017                    25994.2                    25223.4   \n",
              "2    01/03/2017                    27780.0                    26334.3   \n",
              "3    01/04/2017                    29134.3                    27045.9   \n",
              "4    01/05/2017                    27969.0                    25631.9   \n",
              "\n",
              "   ventas_totales_canal_venta  salon_ventas  canales_on_line  \\\n",
              "0                 27858872.08   27591730.13       267141.956   \n",
              "1                 25994200.17   25749179.40       245020.769   \n",
              "2                 27780006.52   27472228.72       307777.804   \n",
              "3                 29134272.22   28827479.49       306792.733   \n",
              "4                 27969004.68   27569311.41       399693.262   \n",
              "\n",
              "   ventas_totales_medio_pago      efectivo  tarjetas_debito  tarjetas_credito  \\\n",
              "0                27858872.08  1.023010e+07      6864575.384       9047205.493   \n",
              "1                25994200.17  9.719067e+06      6438494.011       8309150.301   \n",
              "2                27780006.52  1.024444e+07      6908522.962       8845010.494   \n",
              "3                29134272.22  1.031263e+07      7454251.800       9458166.682   \n",
              "4                27969004.68  1.014761e+07      6735747.319       9220929.862   \n",
              "\n",
              "   ...      almacen     panaderia      lacteos       carnes  \\\n",
              "0  ...  6705475.318  9.459063e+05  2880656.169  2606192.942   \n",
              "1  ...  6576624.803  9.256186e+05  2855639.900  2600083.591   \n",
              "2  ...  7437264.174  1.016148e+06  3188259.169  2824976.726   \n",
              "3  ...  8211244.093  1.132396e+06  3257140.159  3006158.760   \n",
              "4  ...  7651058.084  1.033082e+06  3232635.767  2799142.123   \n",
              "\n",
              "   verduleria_fruteria  alimentos_preparados_rotiseria  \\\n",
              "0         1.050314e+06                     340777.3882   \n",
              "1         1.026167e+06                     328288.6951   \n",
              "2         1.075526e+06                     353335.1548   \n",
              "3         1.037213e+06                     359694.4537   \n",
              "4         9.826512e+05                     336568.0085   \n",
              "\n",
              "   articulos_limpieza_perfumeria  indumentaria_calzado_textiles_hogar  \\\n",
              "0                    4397543.671                          772371.8476   \n",
              "1                    4053283.771                          672290.5165   \n",
              "2                    4354197.611                          667696.6653   \n",
              "3                    4355706.646                          838948.2458   \n",
              "4                    4206101.605                          915895.1498   \n",
              "\n",
              "   electronicos_articulos_hogar        otros  \n",
              "0                   1838507.096  2806660.309  \n",
              "1                   1257661.903  2354084.901  \n",
              "2                   1305674.917  2266189.277  \n",
              "3                   1535726.345  2146755.887  \n",
              "4                   1824462.036  2117971.483  \n",
              "\n",
              "[5 rows x 24 columns]"
            ],
            "text/html": [
              "\n",
              "  <div id=\"df-2620b380-c8ca-4707-8b47-ad00bcd4463d\">\n",
              "    <div class=\"colab-df-container\">\n",
              "      <div>\n",
              "<style scoped>\n",
              "    .dataframe tbody tr th:only-of-type {\n",
              "        vertical-align: middle;\n",
              "    }\n",
              "\n",
              "    .dataframe tbody tr th {\n",
              "        vertical-align: top;\n",
              "    }\n",
              "\n",
              "    .dataframe thead th {\n",
              "        text-align: right;\n",
              "    }\n",
              "</style>\n",
              "<table border=\"1\" class=\"dataframe\">\n",
              "  <thead>\n",
              "    <tr style=\"text-align: right;\">\n",
              "      <th></th>\n",
              "      <th>indice_tiempo</th>\n",
              "      <th>ventas_precios_corrientes</th>\n",
              "      <th>ventas_precios_constantes</th>\n",
              "      <th>ventas_totales_canal_venta</th>\n",
              "      <th>salon_ventas</th>\n",
              "      <th>canales_on_line</th>\n",
              "      <th>ventas_totales_medio_pago</th>\n",
              "      <th>efectivo</th>\n",
              "      <th>tarjetas_debito</th>\n",
              "      <th>tarjetas_credito</th>\n",
              "      <th>...</th>\n",
              "      <th>almacen</th>\n",
              "      <th>panaderia</th>\n",
              "      <th>lacteos</th>\n",
              "      <th>carnes</th>\n",
              "      <th>verduleria_fruteria</th>\n",
              "      <th>alimentos_preparados_rotiseria</th>\n",
              "      <th>articulos_limpieza_perfumeria</th>\n",
              "      <th>indumentaria_calzado_textiles_hogar</th>\n",
              "      <th>electronicos_articulos_hogar</th>\n",
              "      <th>otros</th>\n",
              "    </tr>\n",
              "  </thead>\n",
              "  <tbody>\n",
              "    <tr>\n",
              "      <th>0</th>\n",
              "      <td>01/01/2017</td>\n",
              "      <td>27858.9</td>\n",
              "      <td>27477.3</td>\n",
              "      <td>27858872.08</td>\n",
              "      <td>27591730.13</td>\n",
              "      <td>267141.956</td>\n",
              "      <td>27858872.08</td>\n",
              "      <td>1.023010e+07</td>\n",
              "      <td>6864575.384</td>\n",
              "      <td>9047205.493</td>\n",
              "      <td>...</td>\n",
              "      <td>6705475.318</td>\n",
              "      <td>9.459063e+05</td>\n",
              "      <td>2880656.169</td>\n",
              "      <td>2606192.942</td>\n",
              "      <td>1.050314e+06</td>\n",
              "      <td>340777.3882</td>\n",
              "      <td>4397543.671</td>\n",
              "      <td>772371.8476</td>\n",
              "      <td>1838507.096</td>\n",
              "      <td>2806660.309</td>\n",
              "    </tr>\n",
              "    <tr>\n",
              "      <th>1</th>\n",
              "      <td>01/02/2017</td>\n",
              "      <td>25994.2</td>\n",
              "      <td>25223.4</td>\n",
              "      <td>25994200.17</td>\n",
              "      <td>25749179.40</td>\n",
              "      <td>245020.769</td>\n",
              "      <td>25994200.17</td>\n",
              "      <td>9.719067e+06</td>\n",
              "      <td>6438494.011</td>\n",
              "      <td>8309150.301</td>\n",
              "      <td>...</td>\n",
              "      <td>6576624.803</td>\n",
              "      <td>9.256186e+05</td>\n",
              "      <td>2855639.900</td>\n",
              "      <td>2600083.591</td>\n",
              "      <td>1.026167e+06</td>\n",
              "      <td>328288.6951</td>\n",
              "      <td>4053283.771</td>\n",
              "      <td>672290.5165</td>\n",
              "      <td>1257661.903</td>\n",
              "      <td>2354084.901</td>\n",
              "    </tr>\n",
              "    <tr>\n",
              "      <th>2</th>\n",
              "      <td>01/03/2017</td>\n",
              "      <td>27780.0</td>\n",
              "      <td>26334.3</td>\n",
              "      <td>27780006.52</td>\n",
              "      <td>27472228.72</td>\n",
              "      <td>307777.804</td>\n",
              "      <td>27780006.52</td>\n",
              "      <td>1.024444e+07</td>\n",
              "      <td>6908522.962</td>\n",
              "      <td>8845010.494</td>\n",
              "      <td>...</td>\n",
              "      <td>7437264.174</td>\n",
              "      <td>1.016148e+06</td>\n",
              "      <td>3188259.169</td>\n",
              "      <td>2824976.726</td>\n",
              "      <td>1.075526e+06</td>\n",
              "      <td>353335.1548</td>\n",
              "      <td>4354197.611</td>\n",
              "      <td>667696.6653</td>\n",
              "      <td>1305674.917</td>\n",
              "      <td>2266189.277</td>\n",
              "    </tr>\n",
              "    <tr>\n",
              "      <th>3</th>\n",
              "      <td>01/04/2017</td>\n",
              "      <td>29134.3</td>\n",
              "      <td>27045.9</td>\n",
              "      <td>29134272.22</td>\n",
              "      <td>28827479.49</td>\n",
              "      <td>306792.733</td>\n",
              "      <td>29134272.22</td>\n",
              "      <td>1.031263e+07</td>\n",
              "      <td>7454251.800</td>\n",
              "      <td>9458166.682</td>\n",
              "      <td>...</td>\n",
              "      <td>8211244.093</td>\n",
              "      <td>1.132396e+06</td>\n",
              "      <td>3257140.159</td>\n",
              "      <td>3006158.760</td>\n",
              "      <td>1.037213e+06</td>\n",
              "      <td>359694.4537</td>\n",
              "      <td>4355706.646</td>\n",
              "      <td>838948.2458</td>\n",
              "      <td>1535726.345</td>\n",
              "      <td>2146755.887</td>\n",
              "    </tr>\n",
              "    <tr>\n",
              "      <th>4</th>\n",
              "      <td>01/05/2017</td>\n",
              "      <td>27969.0</td>\n",
              "      <td>25631.9</td>\n",
              "      <td>27969004.68</td>\n",
              "      <td>27569311.41</td>\n",
              "      <td>399693.262</td>\n",
              "      <td>27969004.68</td>\n",
              "      <td>1.014761e+07</td>\n",
              "      <td>6735747.319</td>\n",
              "      <td>9220929.862</td>\n",
              "      <td>...</td>\n",
              "      <td>7651058.084</td>\n",
              "      <td>1.033082e+06</td>\n",
              "      <td>3232635.767</td>\n",
              "      <td>2799142.123</td>\n",
              "      <td>9.826512e+05</td>\n",
              "      <td>336568.0085</td>\n",
              "      <td>4206101.605</td>\n",
              "      <td>915895.1498</td>\n",
              "      <td>1824462.036</td>\n",
              "      <td>2117971.483</td>\n",
              "    </tr>\n",
              "  </tbody>\n",
              "</table>\n",
              "<p>5 rows × 24 columns</p>\n",
              "</div>\n",
              "      <button class=\"colab-df-convert\" onclick=\"convertToInteractive('df-2620b380-c8ca-4707-8b47-ad00bcd4463d')\"\n",
              "              title=\"Convert this dataframe to an interactive table.\"\n",
              "              style=\"display:none;\">\n",
              "        \n",
              "  <svg xmlns=\"http://www.w3.org/2000/svg\" height=\"24px\"viewBox=\"0 0 24 24\"\n",
              "       width=\"24px\">\n",
              "    <path d=\"M0 0h24v24H0V0z\" fill=\"none\"/>\n",
              "    <path d=\"M18.56 5.44l.94 2.06.94-2.06 2.06-.94-2.06-.94-.94-2.06-.94 2.06-2.06.94zm-11 1L8.5 8.5l.94-2.06 2.06-.94-2.06-.94L8.5 2.5l-.94 2.06-2.06.94zm10 10l.94 2.06.94-2.06 2.06-.94-2.06-.94-.94-2.06-.94 2.06-2.06.94z\"/><path d=\"M17.41 7.96l-1.37-1.37c-.4-.4-.92-.59-1.43-.59-.52 0-1.04.2-1.43.59L10.3 9.45l-7.72 7.72c-.78.78-.78 2.05 0 2.83L4 21.41c.39.39.9.59 1.41.59.51 0 1.02-.2 1.41-.59l7.78-7.78 2.81-2.81c.8-.78.8-2.07 0-2.86zM5.41 20L4 18.59l7.72-7.72 1.47 1.35L5.41 20z\"/>\n",
              "  </svg>\n",
              "      </button>\n",
              "      \n",
              "  <style>\n",
              "    .colab-df-container {\n",
              "      display:flex;\n",
              "      flex-wrap:wrap;\n",
              "      gap: 12px;\n",
              "    }\n",
              "\n",
              "    .colab-df-convert {\n",
              "      background-color: #E8F0FE;\n",
              "      border: none;\n",
              "      border-radius: 50%;\n",
              "      cursor: pointer;\n",
              "      display: none;\n",
              "      fill: #1967D2;\n",
              "      height: 32px;\n",
              "      padding: 0 0 0 0;\n",
              "      width: 32px;\n",
              "    }\n",
              "\n",
              "    .colab-df-convert:hover {\n",
              "      background-color: #E2EBFA;\n",
              "      box-shadow: 0px 1px 2px rgba(60, 64, 67, 0.3), 0px 1px 3px 1px rgba(60, 64, 67, 0.15);\n",
              "      fill: #174EA6;\n",
              "    }\n",
              "\n",
              "    [theme=dark] .colab-df-convert {\n",
              "      background-color: #3B4455;\n",
              "      fill: #D2E3FC;\n",
              "    }\n",
              "\n",
              "    [theme=dark] .colab-df-convert:hover {\n",
              "      background-color: #434B5C;\n",
              "      box-shadow: 0px 1px 3px 1px rgba(0, 0, 0, 0.15);\n",
              "      filter: drop-shadow(0px 1px 2px rgba(0, 0, 0, 0.3));\n",
              "      fill: #FFFFFF;\n",
              "    }\n",
              "  </style>\n",
              "\n",
              "      <script>\n",
              "        const buttonEl =\n",
              "          document.querySelector('#df-2620b380-c8ca-4707-8b47-ad00bcd4463d button.colab-df-convert');\n",
              "        buttonEl.style.display =\n",
              "          google.colab.kernel.accessAllowed ? 'block' : 'none';\n",
              "\n",
              "        async function convertToInteractive(key) {\n",
              "          const element = document.querySelector('#df-2620b380-c8ca-4707-8b47-ad00bcd4463d');\n",
              "          const dataTable =\n",
              "            await google.colab.kernel.invokeFunction('convertToInteractive',\n",
              "                                                     [key], {});\n",
              "          if (!dataTable) return;\n",
              "\n",
              "          const docLinkHtml = 'Like what you see? Visit the ' +\n",
              "            '<a target=\"_blank\" href=https://colab.research.google.com/notebooks/data_table.ipynb>data table notebook</a>'\n",
              "            + ' to learn more about interactive tables.';\n",
              "          element.innerHTML = '';\n",
              "          dataTable['output_type'] = 'display_data';\n",
              "          await google.colab.output.renderOutput(dataTable, element);\n",
              "          const docLink = document.createElement('div');\n",
              "          docLink.innerHTML = docLinkHtml;\n",
              "          element.appendChild(docLink);\n",
              "        }\n",
              "      </script>\n",
              "    </div>\n",
              "  </div>\n",
              "  "
            ]
          },
          "metadata": {},
          "execution_count": 2
        }
      ],
      "source": [
        "data= pd.read_csv('Ventas_totales.csv')\n",
        "data.head(5)"
      ]
    },
    {
      "cell_type": "code",
      "source": [
        "data.info()"
      ],
      "metadata": {
        "colab": {
          "base_uri": "https://localhost:8080/"
        },
        "id": "hEqEFvWtAc5M",
        "outputId": "84905e1b-d8a4-4089-99b4-abd329236d5d"
      },
      "execution_count": 7,
      "outputs": [
        {
          "output_type": "stream",
          "name": "stdout",
          "text": [
            "<class 'pandas.core.frame.DataFrame'>\n",
            "RangeIndex: 65 entries, 0 to 64\n",
            "Data columns (total 24 columns):\n",
            " #   Column                               Non-Null Count  Dtype  \n",
            "---  ------                               --------------  -----  \n",
            " 0   indice_tiempo                        65 non-null     object \n",
            " 1   ventas_precios_corrientes            65 non-null     float64\n",
            " 2   ventas_precios_constantes            65 non-null     float64\n",
            " 3   ventas_totales_canal_venta           65 non-null     float64\n",
            " 4   salon_ventas                         59 non-null     float64\n",
            " 5   canales_on_line                      65 non-null     float64\n",
            " 6   ventas_totales_medio_pago            65 non-null     float64\n",
            " 7   efectivo                             65 non-null     float64\n",
            " 8   tarjetas_debito                      64 non-null     float64\n",
            " 9   tarjetas_credito                     58 non-null     float64\n",
            " 10  otros_medios                         64 non-null     float64\n",
            " 11  ventas_totales_grupo_articulos       65 non-null     float64\n",
            " 12  subtotal_ventas_alimentos_bebidas    55 non-null     float64\n",
            " 13  bebidas                              64 non-null     float64\n",
            " 14  almacen                              63 non-null     float64\n",
            " 15  panaderia                            64 non-null     float64\n",
            " 16  lacteos                              64 non-null     float64\n",
            " 17  carnes                               64 non-null     float64\n",
            " 18  verduleria_fruteria                  64 non-null     float64\n",
            " 19  alimentos_preparados_rotiseria       64 non-null     float64\n",
            " 20  articulos_limpieza_perfumeria        65 non-null     float64\n",
            " 21  indumentaria_calzado_textiles_hogar  63 non-null     float64\n",
            " 22  electronicos_articulos_hogar         62 non-null     float64\n",
            " 23  otros                                61 non-null     float64\n",
            "dtypes: float64(23), object(1)\n",
            "memory usage: 12.3+ KB\n"
          ]
        }
      ]
    },
    {
      "cell_type": "code",
      "source": [
        "#Identificar valores nulos por columna\n",
        "valores_nulos=data.isnull().sum()\n",
        "valores_nulos"
      ],
      "metadata": {
        "colab": {
          "base_uri": "https://localhost:8080/"
        },
        "id": "bgfTgB6w_D1A",
        "outputId": "3463ebde-4432-4e02-e7ab-e9a7b40cb431"
      },
      "execution_count": 3,
      "outputs": [
        {
          "output_type": "execute_result",
          "data": {
            "text/plain": [
              "indice_tiempo                           0\n",
              "ventas_precios_corrientes               0\n",
              "ventas_precios_constantes               0\n",
              "ventas_totales_canal_venta              0\n",
              "salon_ventas                            6\n",
              "canales_on_line                         0\n",
              "ventas_totales_medio_pago               0\n",
              "efectivo                                0\n",
              "tarjetas_debito                         1\n",
              "tarjetas_credito                        7\n",
              "otros_medios                            1\n",
              "ventas_totales_grupo_articulos          0\n",
              "subtotal_ventas_alimentos_bebidas      10\n",
              "bebidas                                 1\n",
              "almacen                                 2\n",
              "panaderia                               1\n",
              "lacteos                                 1\n",
              "carnes                                  1\n",
              "verduleria_fruteria                     1\n",
              "alimentos_preparados_rotiseria          1\n",
              "articulos_limpieza_perfumeria           0\n",
              "indumentaria_calzado_textiles_hogar     2\n",
              "electronicos_articulos_hogar            3\n",
              "otros                                   4\n",
              "dtype: int64"
            ]
          },
          "metadata": {},
          "execution_count": 3
        }
      ]
    },
    {
      "cell_type": "markdown",
      "source": [
        "### **Columna salon_ventas**\n",
        "\n",
        "Se escogió el método de llenar los valores nulos con el promedio de ventas del salon debido a que es una variable que indica el total de ventas en salón, por lo que es monetaria y de esa forma se puede analizar mucho mejor. "
      ],
      "metadata": {
        "id": "6mYKV4oW_llY"
      }
    },
    {
      "cell_type": "code",
      "source": [
        "data2=data.copy()"
      ],
      "metadata": {
        "id": "YKckp7Cr_Ovx"
      },
      "execution_count": 14,
      "outputs": []
    },
    {
      "cell_type": "code",
      "source": [
        "data2[\"salon_ventas\"]=data2[\"salon_ventas\"].fillna(round(data[\"salon_ventas\"].mean(),1))\n",
        "data2"
      ],
      "metadata": {
        "colab": {
          "base_uri": "https://localhost:8080/",
          "height": 488
        },
        "id": "uybImWwD_RDJ",
        "outputId": "34927916-10e4-42d9-989a-5fec97a78781"
      },
      "execution_count": 15,
      "outputs": [
        {
          "output_type": "execute_result",
          "data": {
            "text/plain": [
              "   indice_tiempo  ventas_precios_corrientes  ventas_precios_constantes  \\\n",
              "0     01/01/2017                    27858.9                    27477.3   \n",
              "1     01/02/2017                    25994.2                    25223.4   \n",
              "2     01/03/2017                    27780.0                    26334.3   \n",
              "3     01/04/2017                    29134.3                    27045.9   \n",
              "4     01/05/2017                    27969.0                    25631.9   \n",
              "..           ...                        ...                        ...   \n",
              "60    01/01/2022                   154517.1                    45463.4   \n",
              "61    01/02/2022                   152202.6                    23802.1   \n",
              "62    01/03/2022                       16.5                    24612.4   \n",
              "63    01/04/2022                   177148.1                    24140.5   \n",
              "64    01/05/2022                   179639.2                    23234.2   \n",
              "\n",
              "    ventas_totales_canal_venta  salon_ventas  canales_on_line  \\\n",
              "0                 2.785887e+07  2.759173e+07     2.671420e+05   \n",
              "1                 2.599420e+07  2.574918e+07     2.450208e+05   \n",
              "2                 2.778001e+07  2.747223e+07     3.077778e+05   \n",
              "3                 2.913427e+07  2.882748e+07     3.067927e+05   \n",
              "4                 2.796900e+07  2.756931e+07     3.996933e+05   \n",
              "..                         ...           ...              ...   \n",
              "60                1.545171e+08  1.496976e+08     4.819480e+06   \n",
              "61                1.522026e+08  1.484065e+08     3.796044e+06   \n",
              "62                1.689825e+08  1.643211e+08     4.661350e+05   \n",
              "63                1.771481e+08  1.730038e+08     4.144284e+06   \n",
              "64                1.796392e+08  1.753585e+08     4.280751e+06   \n",
              "\n",
              "    ventas_totales_medio_pago      efectivo  tarjetas_debito  \\\n",
              "0                2.785887e+07  1.023010e+07     6.864575e+06   \n",
              "1                2.599420e+07  9.719067e+06     6.438494e+06   \n",
              "2                2.778001e+07  1.024444e+07     6.908523e+06   \n",
              "3                2.913427e+07  1.031263e+07     7.454252e+06   \n",
              "4                2.796900e+07  1.014761e+07     6.735747e+06   \n",
              "..                        ...           ...              ...   \n",
              "60               1.545171e+08  4.696260e+07     4.605365e+07   \n",
              "61               1.522026e+08  4.629096e+07     4.528358e+07   \n",
              "62               1.689825e+08  5.126208e+07     4.736436e+07   \n",
              "63               1.771481e+08  5.319000e+07     5.006397e+07   \n",
              "64               1.796392e+08  5.273811e+07     4.988679e+07   \n",
              "\n",
              "    tarjetas_credito  ...       almacen     panaderia       lacteos  \\\n",
              "0       9.047205e+06  ...  6.705475e+06  9.459063e+05  2.880656e+06   \n",
              "1       8.309150e+06  ...  6.576625e+06  9.256186e+05  2.855640e+06   \n",
              "2       8.845010e+06  ...  7.437264e+06  1.016148e+06  3.188259e+06   \n",
              "3       9.458167e+06  ...  8.211244e+06  1.132396e+06  3.257140e+06   \n",
              "4       9.220930e+06  ...  7.651058e+06  1.033082e+06  3.232636e+06   \n",
              "..               ...  ...           ...           ...           ...   \n",
              "60      5.404833e+07  ...  3.750517e+07  4.860318e+06  1.610477e+07   \n",
              "61      5.370589e+07  ...  3.820979e+07  5.045920e+06  1.613982e+07   \n",
              "62               NaN  ...  4.541886e+07  5.922820e+06  1.841916e+07   \n",
              "63      6.535759e+07  ...  4.999168e+07  6.746167e+06  1.930946e+07   \n",
              "64      6.807009e+07  ...  5.015035e+07  6.667330e+06  2.012112e+07   \n",
              "\n",
              "          carnes  verduleria_fruteria  alimentos_preparados_rotiseria  \\\n",
              "0   2.606193e+06         1.050314e+06                    3.407774e+05   \n",
              "1   2.600084e+06         1.026167e+06                    3.282887e+05   \n",
              "2   2.824977e+06         1.075526e+06                    3.533352e+05   \n",
              "3   3.006159e+06         1.037213e+06                    3.596945e+05   \n",
              "4   2.799142e+06         9.826512e+05                    3.365680e+05   \n",
              "..           ...                  ...                             ...   \n",
              "60  1.740849e+07         6.138441e+06                    1.401929e+06   \n",
              "61  1.826074e+07         6.436028e+06                    1.370640e+06   \n",
              "62  2.082760e+07         6.886240e+06                    1.589119e+06   \n",
              "63  2.287784e+07         6.510666e+06                    1.719459e+06   \n",
              "64  2.284153e+07         6.314109e+06                    1.779483e+06   \n",
              "\n",
              "    articulos_limpieza_perfumeria  indumentaria_calzado_textiles_hogar  \\\n",
              "0                    4.397544e+06                         7.723718e+05   \n",
              "1                    4.053284e+06                         6.722905e+05   \n",
              "2                    4.354198e+06                         6.676967e+05   \n",
              "3                    4.355707e+06                         8.389482e+05   \n",
              "4                    4.206102e+06                         9.158951e+05   \n",
              "..                            ...                                  ...   \n",
              "60                   2.133021e+07                         3.782646e+06   \n",
              "61                   2.030545e+07                                  NaN   \n",
              "62                   2.294201e+07                         3.912852e+06   \n",
              "63                   2.313127e+07                         4.228054e+06   \n",
              "64                   2.357864e+07                         5.213153e+06   \n",
              "\n",
              "    electronicos_articulos_hogar         otros  \n",
              "0                   1.838507e+06  2.806660e+06  \n",
              "1                   1.257662e+06  2.354085e+06  \n",
              "2                   1.305675e+06  2.266189e+06  \n",
              "3                   1.535726e+06  2.146756e+06  \n",
              "4                   1.824462e+06  2.117971e+06  \n",
              "..                           ...           ...  \n",
              "60                  1.218755e+07  1.343307e+07  \n",
              "61                  9.189746e+06  1.330139e+07  \n",
              "62                  1.089879e+07           NaN  \n",
              "63                           NaN  1.191048e+07  \n",
              "64                  1.203960e+07  1.234998e+07  \n",
              "\n",
              "[65 rows x 24 columns]"
            ],
            "text/html": [
              "\n",
              "  <div id=\"df-49c8ec98-f08a-4ea9-a6d3-9a317ab1659c\">\n",
              "    <div class=\"colab-df-container\">\n",
              "      <div>\n",
              "<style scoped>\n",
              "    .dataframe tbody tr th:only-of-type {\n",
              "        vertical-align: middle;\n",
              "    }\n",
              "\n",
              "    .dataframe tbody tr th {\n",
              "        vertical-align: top;\n",
              "    }\n",
              "\n",
              "    .dataframe thead th {\n",
              "        text-align: right;\n",
              "    }\n",
              "</style>\n",
              "<table border=\"1\" class=\"dataframe\">\n",
              "  <thead>\n",
              "    <tr style=\"text-align: right;\">\n",
              "      <th></th>\n",
              "      <th>indice_tiempo</th>\n",
              "      <th>ventas_precios_corrientes</th>\n",
              "      <th>ventas_precios_constantes</th>\n",
              "      <th>ventas_totales_canal_venta</th>\n",
              "      <th>salon_ventas</th>\n",
              "      <th>canales_on_line</th>\n",
              "      <th>ventas_totales_medio_pago</th>\n",
              "      <th>efectivo</th>\n",
              "      <th>tarjetas_debito</th>\n",
              "      <th>tarjetas_credito</th>\n",
              "      <th>...</th>\n",
              "      <th>almacen</th>\n",
              "      <th>panaderia</th>\n",
              "      <th>lacteos</th>\n",
              "      <th>carnes</th>\n",
              "      <th>verduleria_fruteria</th>\n",
              "      <th>alimentos_preparados_rotiseria</th>\n",
              "      <th>articulos_limpieza_perfumeria</th>\n",
              "      <th>indumentaria_calzado_textiles_hogar</th>\n",
              "      <th>electronicos_articulos_hogar</th>\n",
              "      <th>otros</th>\n",
              "    </tr>\n",
              "  </thead>\n",
              "  <tbody>\n",
              "    <tr>\n",
              "      <th>0</th>\n",
              "      <td>01/01/2017</td>\n",
              "      <td>27858.9</td>\n",
              "      <td>27477.3</td>\n",
              "      <td>2.785887e+07</td>\n",
              "      <td>2.759173e+07</td>\n",
              "      <td>2.671420e+05</td>\n",
              "      <td>2.785887e+07</td>\n",
              "      <td>1.023010e+07</td>\n",
              "      <td>6.864575e+06</td>\n",
              "      <td>9.047205e+06</td>\n",
              "      <td>...</td>\n",
              "      <td>6.705475e+06</td>\n",
              "      <td>9.459063e+05</td>\n",
              "      <td>2.880656e+06</td>\n",
              "      <td>2.606193e+06</td>\n",
              "      <td>1.050314e+06</td>\n",
              "      <td>3.407774e+05</td>\n",
              "      <td>4.397544e+06</td>\n",
              "      <td>7.723718e+05</td>\n",
              "      <td>1.838507e+06</td>\n",
              "      <td>2.806660e+06</td>\n",
              "    </tr>\n",
              "    <tr>\n",
              "      <th>1</th>\n",
              "      <td>01/02/2017</td>\n",
              "      <td>25994.2</td>\n",
              "      <td>25223.4</td>\n",
              "      <td>2.599420e+07</td>\n",
              "      <td>2.574918e+07</td>\n",
              "      <td>2.450208e+05</td>\n",
              "      <td>2.599420e+07</td>\n",
              "      <td>9.719067e+06</td>\n",
              "      <td>6.438494e+06</td>\n",
              "      <td>8.309150e+06</td>\n",
              "      <td>...</td>\n",
              "      <td>6.576625e+06</td>\n",
              "      <td>9.256186e+05</td>\n",
              "      <td>2.855640e+06</td>\n",
              "      <td>2.600084e+06</td>\n",
              "      <td>1.026167e+06</td>\n",
              "      <td>3.282887e+05</td>\n",
              "      <td>4.053284e+06</td>\n",
              "      <td>6.722905e+05</td>\n",
              "      <td>1.257662e+06</td>\n",
              "      <td>2.354085e+06</td>\n",
              "    </tr>\n",
              "    <tr>\n",
              "      <th>2</th>\n",
              "      <td>01/03/2017</td>\n",
              "      <td>27780.0</td>\n",
              "      <td>26334.3</td>\n",
              "      <td>2.778001e+07</td>\n",
              "      <td>2.747223e+07</td>\n",
              "      <td>3.077778e+05</td>\n",
              "      <td>2.778001e+07</td>\n",
              "      <td>1.024444e+07</td>\n",
              "      <td>6.908523e+06</td>\n",
              "      <td>8.845010e+06</td>\n",
              "      <td>...</td>\n",
              "      <td>7.437264e+06</td>\n",
              "      <td>1.016148e+06</td>\n",
              "      <td>3.188259e+06</td>\n",
              "      <td>2.824977e+06</td>\n",
              "      <td>1.075526e+06</td>\n",
              "      <td>3.533352e+05</td>\n",
              "      <td>4.354198e+06</td>\n",
              "      <td>6.676967e+05</td>\n",
              "      <td>1.305675e+06</td>\n",
              "      <td>2.266189e+06</td>\n",
              "    </tr>\n",
              "    <tr>\n",
              "      <th>3</th>\n",
              "      <td>01/04/2017</td>\n",
              "      <td>29134.3</td>\n",
              "      <td>27045.9</td>\n",
              "      <td>2.913427e+07</td>\n",
              "      <td>2.882748e+07</td>\n",
              "      <td>3.067927e+05</td>\n",
              "      <td>2.913427e+07</td>\n",
              "      <td>1.031263e+07</td>\n",
              "      <td>7.454252e+06</td>\n",
              "      <td>9.458167e+06</td>\n",
              "      <td>...</td>\n",
              "      <td>8.211244e+06</td>\n",
              "      <td>1.132396e+06</td>\n",
              "      <td>3.257140e+06</td>\n",
              "      <td>3.006159e+06</td>\n",
              "      <td>1.037213e+06</td>\n",
              "      <td>3.596945e+05</td>\n",
              "      <td>4.355707e+06</td>\n",
              "      <td>8.389482e+05</td>\n",
              "      <td>1.535726e+06</td>\n",
              "      <td>2.146756e+06</td>\n",
              "    </tr>\n",
              "    <tr>\n",
              "      <th>4</th>\n",
              "      <td>01/05/2017</td>\n",
              "      <td>27969.0</td>\n",
              "      <td>25631.9</td>\n",
              "      <td>2.796900e+07</td>\n",
              "      <td>2.756931e+07</td>\n",
              "      <td>3.996933e+05</td>\n",
              "      <td>2.796900e+07</td>\n",
              "      <td>1.014761e+07</td>\n",
              "      <td>6.735747e+06</td>\n",
              "      <td>9.220930e+06</td>\n",
              "      <td>...</td>\n",
              "      <td>7.651058e+06</td>\n",
              "      <td>1.033082e+06</td>\n",
              "      <td>3.232636e+06</td>\n",
              "      <td>2.799142e+06</td>\n",
              "      <td>9.826512e+05</td>\n",
              "      <td>3.365680e+05</td>\n",
              "      <td>4.206102e+06</td>\n",
              "      <td>9.158951e+05</td>\n",
              "      <td>1.824462e+06</td>\n",
              "      <td>2.117971e+06</td>\n",
              "    </tr>\n",
              "    <tr>\n",
              "      <th>...</th>\n",
              "      <td>...</td>\n",
              "      <td>...</td>\n",
              "      <td>...</td>\n",
              "      <td>...</td>\n",
              "      <td>...</td>\n",
              "      <td>...</td>\n",
              "      <td>...</td>\n",
              "      <td>...</td>\n",
              "      <td>...</td>\n",
              "      <td>...</td>\n",
              "      <td>...</td>\n",
              "      <td>...</td>\n",
              "      <td>...</td>\n",
              "      <td>...</td>\n",
              "      <td>...</td>\n",
              "      <td>...</td>\n",
              "      <td>...</td>\n",
              "      <td>...</td>\n",
              "      <td>...</td>\n",
              "      <td>...</td>\n",
              "      <td>...</td>\n",
              "    </tr>\n",
              "    <tr>\n",
              "      <th>60</th>\n",
              "      <td>01/01/2022</td>\n",
              "      <td>154517.1</td>\n",
              "      <td>45463.4</td>\n",
              "      <td>1.545171e+08</td>\n",
              "      <td>1.496976e+08</td>\n",
              "      <td>4.819480e+06</td>\n",
              "      <td>1.545171e+08</td>\n",
              "      <td>4.696260e+07</td>\n",
              "      <td>4.605365e+07</td>\n",
              "      <td>5.404833e+07</td>\n",
              "      <td>...</td>\n",
              "      <td>3.750517e+07</td>\n",
              "      <td>4.860318e+06</td>\n",
              "      <td>1.610477e+07</td>\n",
              "      <td>1.740849e+07</td>\n",
              "      <td>6.138441e+06</td>\n",
              "      <td>1.401929e+06</td>\n",
              "      <td>2.133021e+07</td>\n",
              "      <td>3.782646e+06</td>\n",
              "      <td>1.218755e+07</td>\n",
              "      <td>1.343307e+07</td>\n",
              "    </tr>\n",
              "    <tr>\n",
              "      <th>61</th>\n",
              "      <td>01/02/2022</td>\n",
              "      <td>152202.6</td>\n",
              "      <td>23802.1</td>\n",
              "      <td>1.522026e+08</td>\n",
              "      <td>1.484065e+08</td>\n",
              "      <td>3.796044e+06</td>\n",
              "      <td>1.522026e+08</td>\n",
              "      <td>4.629096e+07</td>\n",
              "      <td>4.528358e+07</td>\n",
              "      <td>5.370589e+07</td>\n",
              "      <td>...</td>\n",
              "      <td>3.820979e+07</td>\n",
              "      <td>5.045920e+06</td>\n",
              "      <td>1.613982e+07</td>\n",
              "      <td>1.826074e+07</td>\n",
              "      <td>6.436028e+06</td>\n",
              "      <td>1.370640e+06</td>\n",
              "      <td>2.030545e+07</td>\n",
              "      <td>NaN</td>\n",
              "      <td>9.189746e+06</td>\n",
              "      <td>1.330139e+07</td>\n",
              "    </tr>\n",
              "    <tr>\n",
              "      <th>62</th>\n",
              "      <td>01/03/2022</td>\n",
              "      <td>16.5</td>\n",
              "      <td>24612.4</td>\n",
              "      <td>1.689825e+08</td>\n",
              "      <td>1.643211e+08</td>\n",
              "      <td>4.661350e+05</td>\n",
              "      <td>1.689825e+08</td>\n",
              "      <td>5.126208e+07</td>\n",
              "      <td>4.736436e+07</td>\n",
              "      <td>NaN</td>\n",
              "      <td>...</td>\n",
              "      <td>4.541886e+07</td>\n",
              "      <td>5.922820e+06</td>\n",
              "      <td>1.841916e+07</td>\n",
              "      <td>2.082760e+07</td>\n",
              "      <td>6.886240e+06</td>\n",
              "      <td>1.589119e+06</td>\n",
              "      <td>2.294201e+07</td>\n",
              "      <td>3.912852e+06</td>\n",
              "      <td>1.089879e+07</td>\n",
              "      <td>NaN</td>\n",
              "    </tr>\n",
              "    <tr>\n",
              "      <th>63</th>\n",
              "      <td>01/04/2022</td>\n",
              "      <td>177148.1</td>\n",
              "      <td>24140.5</td>\n",
              "      <td>1.771481e+08</td>\n",
              "      <td>1.730038e+08</td>\n",
              "      <td>4.144284e+06</td>\n",
              "      <td>1.771481e+08</td>\n",
              "      <td>5.319000e+07</td>\n",
              "      <td>5.006397e+07</td>\n",
              "      <td>6.535759e+07</td>\n",
              "      <td>...</td>\n",
              "      <td>4.999168e+07</td>\n",
              "      <td>6.746167e+06</td>\n",
              "      <td>1.930946e+07</td>\n",
              "      <td>2.287784e+07</td>\n",
              "      <td>6.510666e+06</td>\n",
              "      <td>1.719459e+06</td>\n",
              "      <td>2.313127e+07</td>\n",
              "      <td>4.228054e+06</td>\n",
              "      <td>NaN</td>\n",
              "      <td>1.191048e+07</td>\n",
              "    </tr>\n",
              "    <tr>\n",
              "      <th>64</th>\n",
              "      <td>01/05/2022</td>\n",
              "      <td>179639.2</td>\n",
              "      <td>23234.2</td>\n",
              "      <td>1.796392e+08</td>\n",
              "      <td>1.753585e+08</td>\n",
              "      <td>4.280751e+06</td>\n",
              "      <td>1.796392e+08</td>\n",
              "      <td>5.273811e+07</td>\n",
              "      <td>4.988679e+07</td>\n",
              "      <td>6.807009e+07</td>\n",
              "      <td>...</td>\n",
              "      <td>5.015035e+07</td>\n",
              "      <td>6.667330e+06</td>\n",
              "      <td>2.012112e+07</td>\n",
              "      <td>2.284153e+07</td>\n",
              "      <td>6.314109e+06</td>\n",
              "      <td>1.779483e+06</td>\n",
              "      <td>2.357864e+07</td>\n",
              "      <td>5.213153e+06</td>\n",
              "      <td>1.203960e+07</td>\n",
              "      <td>1.234998e+07</td>\n",
              "    </tr>\n",
              "  </tbody>\n",
              "</table>\n",
              "<p>65 rows × 24 columns</p>\n",
              "</div>\n",
              "      <button class=\"colab-df-convert\" onclick=\"convertToInteractive('df-49c8ec98-f08a-4ea9-a6d3-9a317ab1659c')\"\n",
              "              title=\"Convert this dataframe to an interactive table.\"\n",
              "              style=\"display:none;\">\n",
              "        \n",
              "  <svg xmlns=\"http://www.w3.org/2000/svg\" height=\"24px\"viewBox=\"0 0 24 24\"\n",
              "       width=\"24px\">\n",
              "    <path d=\"M0 0h24v24H0V0z\" fill=\"none\"/>\n",
              "    <path d=\"M18.56 5.44l.94 2.06.94-2.06 2.06-.94-2.06-.94-.94-2.06-.94 2.06-2.06.94zm-11 1L8.5 8.5l.94-2.06 2.06-.94-2.06-.94L8.5 2.5l-.94 2.06-2.06.94zm10 10l.94 2.06.94-2.06 2.06-.94-2.06-.94-.94-2.06-.94 2.06-2.06.94z\"/><path d=\"M17.41 7.96l-1.37-1.37c-.4-.4-.92-.59-1.43-.59-.52 0-1.04.2-1.43.59L10.3 9.45l-7.72 7.72c-.78.78-.78 2.05 0 2.83L4 21.41c.39.39.9.59 1.41.59.51 0 1.02-.2 1.41-.59l7.78-7.78 2.81-2.81c.8-.78.8-2.07 0-2.86zM5.41 20L4 18.59l7.72-7.72 1.47 1.35L5.41 20z\"/>\n",
              "  </svg>\n",
              "      </button>\n",
              "      \n",
              "  <style>\n",
              "    .colab-df-container {\n",
              "      display:flex;\n",
              "      flex-wrap:wrap;\n",
              "      gap: 12px;\n",
              "    }\n",
              "\n",
              "    .colab-df-convert {\n",
              "      background-color: #E8F0FE;\n",
              "      border: none;\n",
              "      border-radius: 50%;\n",
              "      cursor: pointer;\n",
              "      display: none;\n",
              "      fill: #1967D2;\n",
              "      height: 32px;\n",
              "      padding: 0 0 0 0;\n",
              "      width: 32px;\n",
              "    }\n",
              "\n",
              "    .colab-df-convert:hover {\n",
              "      background-color: #E2EBFA;\n",
              "      box-shadow: 0px 1px 2px rgba(60, 64, 67, 0.3), 0px 1px 3px 1px rgba(60, 64, 67, 0.15);\n",
              "      fill: #174EA6;\n",
              "    }\n",
              "\n",
              "    [theme=dark] .colab-df-convert {\n",
              "      background-color: #3B4455;\n",
              "      fill: #D2E3FC;\n",
              "    }\n",
              "\n",
              "    [theme=dark] .colab-df-convert:hover {\n",
              "      background-color: #434B5C;\n",
              "      box-shadow: 0px 1px 3px 1px rgba(0, 0, 0, 0.15);\n",
              "      filter: drop-shadow(0px 1px 2px rgba(0, 0, 0, 0.3));\n",
              "      fill: #FFFFFF;\n",
              "    }\n",
              "  </style>\n",
              "\n",
              "      <script>\n",
              "        const buttonEl =\n",
              "          document.querySelector('#df-49c8ec98-f08a-4ea9-a6d3-9a317ab1659c button.colab-df-convert');\n",
              "        buttonEl.style.display =\n",
              "          google.colab.kernel.accessAllowed ? 'block' : 'none';\n",
              "\n",
              "        async function convertToInteractive(key) {\n",
              "          const element = document.querySelector('#df-49c8ec98-f08a-4ea9-a6d3-9a317ab1659c');\n",
              "          const dataTable =\n",
              "            await google.colab.kernel.invokeFunction('convertToInteractive',\n",
              "                                                     [key], {});\n",
              "          if (!dataTable) return;\n",
              "\n",
              "          const docLinkHtml = 'Like what you see? Visit the ' +\n",
              "            '<a target=\"_blank\" href=https://colab.research.google.com/notebooks/data_table.ipynb>data table notebook</a>'\n",
              "            + ' to learn more about interactive tables.';\n",
              "          element.innerHTML = '';\n",
              "          dataTable['output_type'] = 'display_data';\n",
              "          await google.colab.output.renderOutput(dataTable, element);\n",
              "          const docLink = document.createElement('div');\n",
              "          docLink.innerHTML = docLinkHtml;\n",
              "          element.appendChild(docLink);\n",
              "        }\n",
              "      </script>\n",
              "    </div>\n",
              "  </div>\n",
              "  "
            ]
          },
          "metadata": {},
          "execution_count": 15
        }
      ]
    },
    {
      "cell_type": "code",
      "source": [
        "#Identificar valores nulos por columna\n",
        "valores_nulos=data2.isnull().sum()\n",
        "valores_nulos"
      ],
      "metadata": {
        "colab": {
          "base_uri": "https://localhost:8080/"
        },
        "id": "TD_OZTFnDfcE",
        "outputId": "87a4186f-9e75-42c8-c38b-f325af45ac8d"
      },
      "execution_count": 16,
      "outputs": [
        {
          "output_type": "execute_result",
          "data": {
            "text/plain": [
              "indice_tiempo                           0\n",
              "ventas_precios_corrientes               0\n",
              "ventas_precios_constantes               0\n",
              "ventas_totales_canal_venta              0\n",
              "salon_ventas                            0\n",
              "canales_on_line                         0\n",
              "ventas_totales_medio_pago               0\n",
              "efectivo                                0\n",
              "tarjetas_debito                         1\n",
              "tarjetas_credito                        7\n",
              "otros_medios                            1\n",
              "ventas_totales_grupo_articulos          0\n",
              "subtotal_ventas_alimentos_bebidas      10\n",
              "bebidas                                 1\n",
              "almacen                                 2\n",
              "panaderia                               1\n",
              "lacteos                                 1\n",
              "carnes                                  1\n",
              "verduleria_fruteria                     1\n",
              "alimentos_preparados_rotiseria          1\n",
              "articulos_limpieza_perfumeria           0\n",
              "indumentaria_calzado_textiles_hogar     2\n",
              "electronicos_articulos_hogar            3\n",
              "otros                                   4\n",
              "dtype: int64"
            ]
          },
          "metadata": {},
          "execution_count": 16
        }
      ]
    },
    {
      "cell_type": "markdown",
      "source": [
        "### **Columna tarjetas_debito**\n",
        "\n",
        "Se escogio el método de llenar con el valor anterior debido a que solo es un valor y no afecta el análisis a gran escala"
      ],
      "metadata": {
        "id": "ievP8Ta5_lgl"
      }
    },
    {
      "cell_type": "code",
      "source": [
        "data2[\"tarjetas_debito\"]=data2[\"tarjetas_debito\"].fillna(method=\"ffill\")"
      ],
      "metadata": {
        "id": "4tHhlrvBCg_j"
      },
      "execution_count": 17,
      "outputs": []
    },
    {
      "cell_type": "code",
      "source": [
        "#Identificar valores nulos por columna\n",
        "valores_nulos=data2.isnull().sum()\n",
        "valores_nulos"
      ],
      "metadata": {
        "colab": {
          "base_uri": "https://localhost:8080/"
        },
        "id": "HUrVNlYIDnFj",
        "outputId": "967ecdc1-d0be-485c-a585-520ec2a3af4a"
      },
      "execution_count": 18,
      "outputs": [
        {
          "output_type": "execute_result",
          "data": {
            "text/plain": [
              "indice_tiempo                           0\n",
              "ventas_precios_corrientes               0\n",
              "ventas_precios_constantes               0\n",
              "ventas_totales_canal_venta              0\n",
              "salon_ventas                            0\n",
              "canales_on_line                         0\n",
              "ventas_totales_medio_pago               0\n",
              "efectivo                                0\n",
              "tarjetas_debito                         0\n",
              "tarjetas_credito                        7\n",
              "otros_medios                            1\n",
              "ventas_totales_grupo_articulos          0\n",
              "subtotal_ventas_alimentos_bebidas      10\n",
              "bebidas                                 1\n",
              "almacen                                 2\n",
              "panaderia                               1\n",
              "lacteos                                 1\n",
              "carnes                                  1\n",
              "verduleria_fruteria                     1\n",
              "alimentos_preparados_rotiseria          1\n",
              "articulos_limpieza_perfumeria           0\n",
              "indumentaria_calzado_textiles_hogar     2\n",
              "electronicos_articulos_hogar            3\n",
              "otros                                   4\n",
              "dtype: int64"
            ]
          },
          "metadata": {},
          "execution_count": 18
        }
      ]
    },
    {
      "cell_type": "markdown",
      "source": [
        "### **Columna tarjetas_credito**\n",
        "\n",
        "Se escogió el método de llenar los valores nulos con el promedio de ventas con trajetas de crédito porque son valores monetarios, por loo que si afecta el análisis posterior. "
      ],
      "metadata": {
        "id": "L8WLSTVRBss0"
      }
    },
    {
      "cell_type": "code",
      "source": [
        "data2[\"tarjetas_credito\"]=data2[\"tarjetas_credito\"].fillna(round(data[\"tarjetas_credito\"].mean(),1))"
      ],
      "metadata": {
        "id": "wouK4yt8BsZu"
      },
      "execution_count": 19,
      "outputs": []
    },
    {
      "cell_type": "code",
      "source": [
        "#Identificar valores nulos por columna\n",
        "valores_nulos=data2.isnull().sum()\n",
        "valores_nulos"
      ],
      "metadata": {
        "colab": {
          "base_uri": "https://localhost:8080/"
        },
        "id": "emXeUrFEBrk_",
        "outputId": "e617534a-10a4-4737-bb5b-128d9592a922"
      },
      "execution_count": 20,
      "outputs": [
        {
          "output_type": "execute_result",
          "data": {
            "text/plain": [
              "indice_tiempo                           0\n",
              "ventas_precios_corrientes               0\n",
              "ventas_precios_constantes               0\n",
              "ventas_totales_canal_venta              0\n",
              "salon_ventas                            0\n",
              "canales_on_line                         0\n",
              "ventas_totales_medio_pago               0\n",
              "efectivo                                0\n",
              "tarjetas_debito                         0\n",
              "tarjetas_credito                        0\n",
              "otros_medios                            1\n",
              "ventas_totales_grupo_articulos          0\n",
              "subtotal_ventas_alimentos_bebidas      10\n",
              "bebidas                                 1\n",
              "almacen                                 2\n",
              "panaderia                               1\n",
              "lacteos                                 1\n",
              "carnes                                  1\n",
              "verduleria_fruteria                     1\n",
              "alimentos_preparados_rotiseria          1\n",
              "articulos_limpieza_perfumeria           0\n",
              "indumentaria_calzado_textiles_hogar     2\n",
              "electronicos_articulos_hogar            3\n",
              "otros                                   4\n",
              "dtype: int64"
            ]
          },
          "metadata": {},
          "execution_count": 20
        }
      ]
    },
    {
      "cell_type": "markdown",
      "source": [
        "### **Columna de otros_medios**\n",
        "\n",
        "Se escogió el método de llenar con el valor posterior ya que solo hay un valor nulo en la columna. "
      ],
      "metadata": {
        "id": "PYPPy0G1ECnn"
      }
    },
    {
      "cell_type": "code",
      "source": [
        "data2[\"otros_medios\"]=data2[\"otros_medios\"].fillna(method=\"bfill\")"
      ],
      "metadata": {
        "id": "I1YTab1KEJX6"
      },
      "execution_count": 21,
      "outputs": []
    },
    {
      "cell_type": "code",
      "source": [
        "#Identificar valores nulos por columna\n",
        "valores_nulos=data2.isnull().sum()\n",
        "valores_nulos"
      ],
      "metadata": {
        "colab": {
          "base_uri": "https://localhost:8080/"
        },
        "id": "toXrRR56EUwS",
        "outputId": "708b5a7b-c493-49c8-981e-948ebc68d42c"
      },
      "execution_count": 22,
      "outputs": [
        {
          "output_type": "execute_result",
          "data": {
            "text/plain": [
              "indice_tiempo                           0\n",
              "ventas_precios_corrientes               0\n",
              "ventas_precios_constantes               0\n",
              "ventas_totales_canal_venta              0\n",
              "salon_ventas                            0\n",
              "canales_on_line                         0\n",
              "ventas_totales_medio_pago               0\n",
              "efectivo                                0\n",
              "tarjetas_debito                         0\n",
              "tarjetas_credito                        0\n",
              "otros_medios                            0\n",
              "ventas_totales_grupo_articulos          0\n",
              "subtotal_ventas_alimentos_bebidas      10\n",
              "bebidas                                 1\n",
              "almacen                                 2\n",
              "panaderia                               1\n",
              "lacteos                                 1\n",
              "carnes                                  1\n",
              "verduleria_fruteria                     1\n",
              "alimentos_preparados_rotiseria          1\n",
              "articulos_limpieza_perfumeria           0\n",
              "indumentaria_calzado_textiles_hogar     2\n",
              "electronicos_articulos_hogar            3\n",
              "otros                                   4\n",
              "dtype: int64"
            ]
          },
          "metadata": {},
          "execution_count": 22
        }
      ]
    },
    {
      "cell_type": "markdown",
      "source": [
        "### **Columna de subtotal_ventas**\n",
        "\n",
        "Se eligió utilizar el método de llenar con la mediana porque al ser un subtotal, el promedio podría elevar valores demadiado, por lo que la mediana indica un mejor punto medio entre todos los valores. "
      ],
      "metadata": {
        "id": "aSaTk3_DEeu5"
      }
    },
    {
      "cell_type": "code",
      "source": [
        "data2[\"subtotal_ventas_alimentos_bebidas\"]=data2[\"subtotal_ventas_alimentos_bebidas\"].fillna(round(data[\"subtotal_ventas_alimentos_bebidas\"].median(),1))"
      ],
      "metadata": {
        "id": "_2Y8kcXCEgU9"
      },
      "execution_count": 23,
      "outputs": []
    },
    {
      "cell_type": "code",
      "source": [
        "#Identificar valores nulos por columna\n",
        "valores_nulos=data2.isnull().sum()\n",
        "valores_nulos"
      ],
      "metadata": {
        "colab": {
          "base_uri": "https://localhost:8080/"
        },
        "id": "9WH1t28eFBx6",
        "outputId": "9463e8ee-a94f-4ede-aa42-f787327fe49e"
      },
      "execution_count": 24,
      "outputs": [
        {
          "output_type": "execute_result",
          "data": {
            "text/plain": [
              "indice_tiempo                          0\n",
              "ventas_precios_corrientes              0\n",
              "ventas_precios_constantes              0\n",
              "ventas_totales_canal_venta             0\n",
              "salon_ventas                           0\n",
              "canales_on_line                        0\n",
              "ventas_totales_medio_pago              0\n",
              "efectivo                               0\n",
              "tarjetas_debito                        0\n",
              "tarjetas_credito                       0\n",
              "otros_medios                           0\n",
              "ventas_totales_grupo_articulos         0\n",
              "subtotal_ventas_alimentos_bebidas      0\n",
              "bebidas                                1\n",
              "almacen                                2\n",
              "panaderia                              1\n",
              "lacteos                                1\n",
              "carnes                                 1\n",
              "verduleria_fruteria                    1\n",
              "alimentos_preparados_rotiseria         1\n",
              "articulos_limpieza_perfumeria          0\n",
              "indumentaria_calzado_textiles_hogar    2\n",
              "electronicos_articulos_hogar           3\n",
              "otros                                  4\n",
              "dtype: int64"
            ]
          },
          "metadata": {},
          "execution_count": 24
        }
      ]
    },
    {
      "cell_type": "markdown",
      "source": [
        "### **Columnas de bebidas, almacen, panaderia, lacteos, carnes, verduleria_fruteria y alimentos_preparados_rosticeria**\n",
        "\n",
        "Para estas columnas se eligió utilizar el método de llenado personalizado con 0, debido a que se infiere que los valores nulos son equivalentes a que en esa fecha no se realizaron ventas dentro de estos departamentos"
      ],
      "metadata": {
        "id": "D6rExngnFL8w"
      }
    },
    {
      "cell_type": "code",
      "source": [
        "data2[\"bebidas\"]=data2[\"bebidas\"].fillna(0)\n",
        "data2[\"almacen\"]=data2[\"almacen\"].fillna(0)\n",
        "data2[\"panaderia\"]=data2[\"panaderia\"].fillna(0)\n",
        "data2[\"lacteos\"]=data2[\"lacteos\"].fillna(0)\n",
        "data2[\"carnes\"]=data2[\"carnes\"].fillna(0)\n",
        "data2[\"verduleria_fruteria\"]=data2[\"verduleria_fruteria\"].fillna(0)\n",
        "data2[\"alimentos_preparados_rotiseria\"]=data2[\"alimentos_preparados_rotiseria\"].fillna(0)"
      ],
      "metadata": {
        "id": "3QQ1DUnvFBug"
      },
      "execution_count": 25,
      "outputs": []
    },
    {
      "cell_type": "code",
      "source": [
        "#Identificar valores nulos por columna\n",
        "valores_nulos=data2.isnull().sum()\n",
        "valores_nulos"
      ],
      "metadata": {
        "colab": {
          "base_uri": "https://localhost:8080/"
        },
        "id": "DEcM3vkZGHtz",
        "outputId": "ec87c41d-7ea5-462c-81c6-a9f2ff6d3c6f"
      },
      "execution_count": 26,
      "outputs": [
        {
          "output_type": "execute_result",
          "data": {
            "text/plain": [
              "indice_tiempo                          0\n",
              "ventas_precios_corrientes              0\n",
              "ventas_precios_constantes              0\n",
              "ventas_totales_canal_venta             0\n",
              "salon_ventas                           0\n",
              "canales_on_line                        0\n",
              "ventas_totales_medio_pago              0\n",
              "efectivo                               0\n",
              "tarjetas_debito                        0\n",
              "tarjetas_credito                       0\n",
              "otros_medios                           0\n",
              "ventas_totales_grupo_articulos         0\n",
              "subtotal_ventas_alimentos_bebidas      0\n",
              "bebidas                                0\n",
              "almacen                                0\n",
              "panaderia                              0\n",
              "lacteos                                0\n",
              "carnes                                 0\n",
              "verduleria_fruteria                    0\n",
              "alimentos_preparados_rotiseria         0\n",
              "articulos_limpieza_perfumeria          0\n",
              "indumentaria_calzado_textiles_hogar    2\n",
              "electronicos_articulos_hogar           3\n",
              "otros                                  4\n",
              "dtype: int64"
            ]
          },
          "metadata": {},
          "execution_count": 26
        }
      ]
    },
    {
      "cell_type": "markdown",
      "source": [
        "### **Columnas de indumentaria_calzado_textiles_hogar y electronicos_articulos_hogar**\n",
        "\n",
        "Para estas columnas se eligió utilizar el método de llenado con el promedio debido a que hay más valores nulos que en las columnas anteriores. "
      ],
      "metadata": {
        "id": "eFpBDu7XGN0y"
      }
    },
    {
      "cell_type": "code",
      "source": [
        "data2[\"indumentaria_calzado_textiles_hogar\"]=data2[\"indumentaria_calzado_textiles_hogar\"].fillna(round(data[\"indumentaria_calzado_textiles_hogar\"].mean(),1))\n",
        "data2[\"electronicos_articulos_hogar\"]=data2[\"electronicos_articulos_hogar\"].fillna(round(data[\"electronicos_articulos_hogar\"].mean(),1))"
      ],
      "metadata": {
        "id": "dvSH17IcGNMU"
      },
      "execution_count": 28,
      "outputs": []
    },
    {
      "cell_type": "code",
      "source": [
        "#Identificar valores nulos por columna\n",
        "valores_nulos=data2.isnull().sum()\n",
        "valores_nulos"
      ],
      "metadata": {
        "colab": {
          "base_uri": "https://localhost:8080/"
        },
        "id": "W1s6ueu8Gz_N",
        "outputId": "26637ab0-3b06-4e85-a34a-0e8d7faf8ab7"
      },
      "execution_count": 29,
      "outputs": [
        {
          "output_type": "execute_result",
          "data": {
            "text/plain": [
              "indice_tiempo                          0\n",
              "ventas_precios_corrientes              0\n",
              "ventas_precios_constantes              0\n",
              "ventas_totales_canal_venta             0\n",
              "salon_ventas                           0\n",
              "canales_on_line                        0\n",
              "ventas_totales_medio_pago              0\n",
              "efectivo                               0\n",
              "tarjetas_debito                        0\n",
              "tarjetas_credito                       0\n",
              "otros_medios                           0\n",
              "ventas_totales_grupo_articulos         0\n",
              "subtotal_ventas_alimentos_bebidas      0\n",
              "bebidas                                0\n",
              "almacen                                0\n",
              "panaderia                              0\n",
              "lacteos                                0\n",
              "carnes                                 0\n",
              "verduleria_fruteria                    0\n",
              "alimentos_preparados_rotiseria         0\n",
              "articulos_limpieza_perfumeria          0\n",
              "indumentaria_calzado_textiles_hogar    0\n",
              "electronicos_articulos_hogar           0\n",
              "otros                                  4\n",
              "dtype: int64"
            ]
          },
          "metadata": {},
          "execution_count": 29
        }
      ]
    },
    {
      "cell_type": "markdown",
      "source": [
        "### **Columnas de otros**\n",
        "\n",
        "Para esta ultima columna se decició utilizar nuevamente el método de llenar con 0. En ninguna columna se uso el método para llenar con texto personalizado debido a que todas las columnas (excepto la primera) tienen valores en formato float "
      ],
      "metadata": {
        "id": "echo8j6WG2-k"
      }
    },
    {
      "cell_type": "code",
      "source": [
        "data2[\"otros\"]=data2[\"otros\"].fillna(0)"
      ],
      "metadata": {
        "id": "5aSMg3wmG2bw"
      },
      "execution_count": 30,
      "outputs": []
    },
    {
      "cell_type": "code",
      "source": [
        "#Identificar valores nulos por columna\n",
        "valores_nulos=data2.isnull().sum()\n",
        "valores_nulos"
      ],
      "metadata": {
        "colab": {
          "base_uri": "https://localhost:8080/"
        },
        "id": "exWiY5b_HUQ3",
        "outputId": "f5490250-7652-4867-fbbe-a5c78a8a5f83"
      },
      "execution_count": 31,
      "outputs": [
        {
          "output_type": "execute_result",
          "data": {
            "text/plain": [
              "indice_tiempo                          0\n",
              "ventas_precios_corrientes              0\n",
              "ventas_precios_constantes              0\n",
              "ventas_totales_canal_venta             0\n",
              "salon_ventas                           0\n",
              "canales_on_line                        0\n",
              "ventas_totales_medio_pago              0\n",
              "efectivo                               0\n",
              "tarjetas_debito                        0\n",
              "tarjetas_credito                       0\n",
              "otros_medios                           0\n",
              "ventas_totales_grupo_articulos         0\n",
              "subtotal_ventas_alimentos_bebidas      0\n",
              "bebidas                                0\n",
              "almacen                                0\n",
              "panaderia                              0\n",
              "lacteos                                0\n",
              "carnes                                 0\n",
              "verduleria_fruteria                    0\n",
              "alimentos_preparados_rotiseria         0\n",
              "articulos_limpieza_perfumeria          0\n",
              "indumentaria_calzado_textiles_hogar    0\n",
              "electronicos_articulos_hogar           0\n",
              "otros                                  0\n",
              "dtype: int64"
            ]
          },
          "metadata": {},
          "execution_count": 31
        }
      ]
    },
    {
      "cell_type": "markdown",
      "source": [
        "### **Convertir Data 2**"
      ],
      "metadata": {
        "id": "fs_l05qaHZga"
      }
    },
    {
      "cell_type": "code",
      "source": [
        "data2.to_csv(\"Ventas_totales_sin_nulos.csv\")"
      ],
      "metadata": {
        "id": "hW_6I07PHY7p"
      },
      "execution_count": 32,
      "outputs": []
    }
  ]
}